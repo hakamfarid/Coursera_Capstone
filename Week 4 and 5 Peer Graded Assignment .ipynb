{
 "cells": [
  {
   "cell_type": "markdown",
   "metadata": {
    "collapsed": true
   },
   "source": [
    "# Coursera Capstone Project- Relationship between crime and the type of businesses in an area. "
   ]
  },
  {
   "cell_type": "markdown",
   "metadata": {},
   "source": [
    "## Introduction \n",
    "This notebook is part of the IBM data science capstone project. In this project we will be using data from the foursquare api as well as official crime data from government websites to see relationships between the type of businesses in an area and there effect on the crime rate. This can be used to get some insights on the factors that lead to crime and why certain neighborhoods can have lower crime rates based on the businesses that are running in that area. This data study can be of interest to local authorities to have a way to predict the impacts a new business might have on the surrounding area. Additionally, this data can be of interest to anyone looking to startup a business as they look for the best location to start at. "
   ]
  },
  {
   "cell_type": "markdown",
   "metadata": {},
   "source": [
    "## The data :\n",
    "### 1. Foursquare API venue data :\n",
    "Foursquare is the leading API for location and venue data, the credentials obtained from creating a developer account will allow for the API to be queryed for information on the businesses in certain neighbourhoods. \n",
    "### 2. San Fransico crime data :\n",
    "Detailed records on the crime in San Fransico will be used to find the neighbouhoods with the highest crime rates and try and find a correlation between the type of business and the type/ frequency of crimes that happen in an area. "
   ]
  },
  {
   "cell_type": "code",
   "execution_count": null,
   "metadata": {},
   "outputs": [],
   "source": []
  }
 ],
 "metadata": {
  "kernelspec": {
   "display_name": "Python 3.7",
   "language": "python",
   "name": "python3"
  },
  "language_info": {
   "codemirror_mode": {
    "name": "ipython",
    "version": 3
   },
   "file_extension": ".py",
   "mimetype": "text/x-python",
   "name": "python",
   "nbconvert_exporter": "python",
   "pygments_lexer": "ipython3",
   "version": "3.7.9"
  }
 },
 "nbformat": 4,
 "nbformat_minor": 1
}
